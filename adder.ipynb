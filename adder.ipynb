{
 "cells": [
  {
   "cell_type": "code",
   "execution_count": 23,
   "metadata": {},
   "outputs": [
    {
     "data": {
      "text/html": [
       "<pre style=\"word-wrap: normal;white-space: pre;background: #fff0;line-height: 1.1;font-family: &quot;Courier New&quot;,Courier,monospace\">                                                 ░ ┌─┐                  \n",
       "   q_0: ──■─────────■────────────────────────────░─┤M├──────────────────\n",
       "          │         │                            ░ └╥┘┌─┐               \n",
       "   q_1: ──┼────■────┼────■───────────────────────░──╫─┤M├───────────────\n",
       "          │    │  ┌─┴─┐  │                       ░  ║ └╥┘┌─┐            \n",
       "   q_2: ──■────┼──┤ X ├──┼────■────■─────────────░──╫──╫─┤M├────────────\n",
       "          │    │  └───┘┌─┴─┐  │    │             ░  ║  ║ └╥┘┌─┐         \n",
       "   q_3: ──┼────■───────┤ X ├──┼────┼────■────■───░──╫──╫──╫─┤M├─────────\n",
       "          │    │       └───┘  │  ┌─┴─┐  │    │   ░  ║  ║  ║ └╥┘┌─┐      \n",
       "   q_4: ──┼────┼──────────────■──┤ X ├──┼────┼───░──╫──╫──╫──╫─┤M├──────\n",
       "        ┌─┴─┐  │            ┌─┴─┐└───┘  │  ┌─┴─┐ ░  ║  ║  ║  ║ └╥┘┌─┐   \n",
       "   q_5: ┤ X ├──┼────────────┤ X ├───────■──┤ X ├─░──╫──╫──╫──╫──╫─┤M├───\n",
       "        └───┘┌─┴─┐          └───┘     ┌─┴─┐└───┘ ░  ║  ║  ║  ║  ║ └╥┘┌─┐\n",
       "   q_6: ─────┤ X ├────────────────────┤ X ├──────░──╫──╫──╫──╫──╫──╫─┤M├\n",
       "             └───┘                    └───┘      ░  ║  ║  ║  ║  ║  ║ └╥┘\n",
       "meas: 7/════════════════════════════════════════════╩══╩══╩══╩══╩══╩══╩═\n",
       "                                                    0  1  2  3  4  5  6 </pre>"
      ],
      "text/plain": [
       "                                                 ░ ┌─┐                  \n",
       "   q_0: ──■─────────■────────────────────────────░─┤M├──────────────────\n",
       "          │         │                            ░ └╥┘┌─┐               \n",
       "   q_1: ──┼────■────┼────■───────────────────────░──╫─┤M├───────────────\n",
       "          │    │  ┌─┴─┐  │                       ░  ║ └╥┘┌─┐            \n",
       "   q_2: ──■────┼──┤ X ├──┼────■────■─────────────░──╫──╫─┤M├────────────\n",
       "          │    │  └───┘┌─┴─┐  │    │             ░  ║  ║ └╥┘┌─┐         \n",
       "   q_3: ──┼────■───────┤ X ├──┼────┼────■────■───░──╫──╫──╫─┤M├─────────\n",
       "          │    │       └───┘  │  ┌─┴─┐  │    │   ░  ║  ║  ║ └╥┘┌─┐      \n",
       "   q_4: ──┼────┼──────────────■──┤ X ├──┼────┼───░──╫──╫──╫──╫─┤M├──────\n",
       "        ┌─┴─┐  │            ┌─┴─┐└───┘  │  ┌─┴─┐ ░  ║  ║  ║  ║ └╥┘┌─┐   \n",
       "   q_5: ┤ X ├──┼────────────┤ X ├───────■──┤ X ├─░──╫──╫──╫──╫──╫─┤M├───\n",
       "        └───┘┌─┴─┐          └───┘     ┌─┴─┐└───┘ ░  ║  ║  ║  ║  ║ └╥┘┌─┐\n",
       "   q_6: ─────┤ X ├────────────────────┤ X ├──────░──╫──╫──╫──╫──╫──╫─┤M├\n",
       "             └───┘                    └───┘      ░  ║  ║  ║  ║  ║  ║ └╥┘\n",
       "meas: 7/════════════════════════════════════════════╩══╩══╩══╩══╩══╩══╩═\n",
       "                                                    0  1  2  3  4  5  6 "
      ]
     },
     "execution_count": 23,
     "metadata": {},
     "output_type": "execute_result"
    }
   ],
   "source": [
    "from qiskit import QuantumCircuit, Aer, transpile, assemble\n",
    "from qiskit.visualization import plot_histogram\n",
    "\n",
    "\n",
    "def add_integers(n):\n",
    "\n",
    "    qc=QuantumCircuit(2*n+n+1)\n",
    "\n",
    "    #testing initialization for 2 bits numbers\n",
    "    qc.initialize([0,1],0)\n",
    "    qc.initialize([0,1],1)\n",
    "    qc.initialize([0,1],2)\n",
    "    qc.initialize([0,1],3)\n",
    "\n",
    "\n",
    "\n",
    "####creating the adder circuit\n",
    "    a=list(range(n))\n",
    "    b=list(range(n))\n",
    "    b=[j + n for j in b]\n",
    "    sum_reg=list(range(n+1))\n",
    "    sum_reg=[j+2*n for j in sum_reg]\n",
    "\n",
    "    # Add integer addition circuit\n",
    "    for i in range(n):\n",
    "        qc.toffoli(a[i], b[i],sum_reg[i+1] )\n",
    "        qc.cnot(a[i], b[i])\n",
    "        qc.toffoli(b[i], sum_reg[i],sum_reg[i+1] )\n",
    "        qc.cnot(b[i], sum_reg[i])\n",
    "    \n",
    "# # Measure the result\n",
    "    qc.measure_all()\n",
    "\n",
    "    return qc\n",
    "\n",
    "# Set the number of bits for the integers\n",
    "n = 2\n",
    "circuit=add_integers(n)\n",
    "# Draw the circuit\n",
    "circuit.draw()\n",
    "\n",
    "\n"
   ]
  },
  {
   "cell_type": "code",
   "execution_count": 22,
   "metadata": {},
   "outputs": [
    {
     "data": {
      "image/png": "[encoded data removed]",
      "text/plain": [
       "<Figure size 700x500 with 1 Axes>"
      ]
     },
     "execution_count": 22,
     "metadata": {},
     "output_type": "execute_result"
    }
   ],
   "source": [
    "from qiskit_aer import AerSimulator\n",
    "from qiskit.tools.visualization import plot_histogram\n",
    "# Simulate the circuit\n",
    "\n",
    "sim_ideal = AerSimulator()\n",
    "result_ideal = sim_ideal.run(circuit).result()\n",
    "plot_histogram(result_ideal.get_counts(0))"
   ]
  },
  {
   "attachments": {},
   "cell_type": "markdown",
   "metadata": {},
   "source": [
    "so, the first three bits are the output, the last four are the inputs, where the first is a and the seccond is be for a+b = output. note that this is for two bit addition. thank you!"
   ]
  },
  {
   "cell_type": "markdown",
   "metadata": {},
   "source": []
  },
  {
   "cell_type": "markdown",
   "metadata": {},
   "source": []
  }
 ],
 "metadata": {
  "kernelspec": {
   "display_name": "base",
   "language": "python",
   "name": "python3"
  },
  "language_info": {
   "codemirror_mode": {
    "name": "ipython",
    "version": 3
   },
   "file_extension": ".py",
   "mimetype": "text/x-python",
   "name": "python",
   "nbconvert_exporter": "python",
   "pygments_lexer": "ipython3",
   "version": "3.9.13"
  },
  "orig_nbformat": 4
 },
 "nbformat": 4,
 "nbformat_minor": 2
}
