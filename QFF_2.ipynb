{
 "cells": [
  {
   "cell_type": "code",
   "execution_count": 53,
   "metadata": {},
   "outputs": [
    {
     "name": "stdout",
     "output_type": "stream",
     "text": [
      "P= [[0.33333333 0.33333333 0.33333333]\n",
      " [0.33333333 0.33333333 0.33333333]\n",
      " [0.33333333 0.33333333 0.33333333]]\n",
      "D= [[0.33333333 0.33333333 0.33333333]\n",
      " [0.33333333 0.33333333 0.33333333]\n",
      " [0.33333333 0.33333333 0.33333333]]\n"
     ]
    }
   ],
   "source": [
    "import numpy as np\n",
    "from numpy.linalg import matrix_power\n",
    "P=np.array([[1/3,1/3,1/3],\n",
    "   [1/3,1/3,1/3],\n",
    "   [1/3,1/3,1/3]])\n",
    "P_T=P.T\n",
    "D=np.multiply(P,P_T)\n",
    "D=np.sqrt(D)\n",
    "print(\"P=\",P)\n",
    "print(\"D=\",D)\n"
   ]
  },
  {
   "attachments": {},
   "cell_type": "markdown",
   "metadata": {},
   "source": [
    "# calculating V"
   ]
  },
  {
   "cell_type": "code",
   "execution_count": 54,
   "metadata": {},
   "outputs": [
    {
     "name": "stdout",
     "output_type": "stream",
     "text": [
      "[1 0 0]\n"
     ]
    }
   ],
   "source": [
    "# one hot vector\n",
    "def One_Hot_vector(a,l):\n",
    "    vec=[]\n",
    "    for i in range(l):\n",
    "        if(i==a):\n",
    "            vec.append(1)\n",
    "        else:\n",
    "           vec.append(0)\n",
    "    return(np.transpose(np.array(vec)))\n",
    "print(One_Hot_vector(0,3))"
   ]
  },
  {
   "cell_type": "code",
   "execution_count": 55,
   "metadata": {},
   "outputs": [
    {
     "name": "stdout",
     "output_type": "stream",
     "text": [
      "[[1 0 0]\n",
      " [0 0 0]\n",
      " [0 0 0]]\n",
      "[[0 0 0]\n",
      " [0 1 0]\n",
      " [0 0 0]]\n",
      "[[0 0 0]\n",
      " [0 0 0]\n",
      " [0 0 1]]\n",
      "[[0.57735027 0.57735027 0.57735027 0.         0.         0.\n",
      "  0.         0.         0.        ]\n",
      " [0.57735027 0.57735027 0.57735027 0.         0.         0.\n",
      "  0.         0.         0.        ]\n",
      " [0.57735027 0.57735027 0.57735027 0.         0.         0.\n",
      "  0.         0.         0.        ]\n",
      " [0.         0.         0.         0.57735027 0.57735027 0.57735027\n",
      "  0.         0.         0.        ]\n",
      " [0.         0.         0.         0.57735027 0.57735027 0.57735027\n",
      "  0.         0.         0.        ]\n",
      " [0.         0.         0.         0.57735027 0.57735027 0.57735027\n",
      "  0.         0.         0.        ]\n",
      " [0.         0.         0.         0.         0.         0.\n",
      "  0.57735027 0.57735027 0.57735027]\n",
      " [0.         0.         0.         0.         0.         0.\n",
      "  0.57735027 0.57735027 0.57735027]\n",
      " [0.         0.         0.         0.         0.         0.\n",
      "  0.57735027 0.57735027 0.57735027]]\n"
     ]
    }
   ],
   "source": [
    "V_i=[] ##it has all the V_i s\n",
    "for i in range(len(P)):\n",
    "    u=[]\n",
    "    for j in range(len(P)):\n",
    "        u.append([np.sqrt(P[i][0]),np.sqrt(P[i][1]),np.sqrt(P[i][2])])\n",
    "    V_i.append(u)\n",
    "V=[]\n",
    "for i in range(9):\n",
    "    t=[]\n",
    "    for j in range(9):\n",
    "        t.append(0)\n",
    "    V.append(t)\n",
    "for r in range(len(P)):\n",
    "    i=One_Hot_vector(r,3)\n",
    "    # print(i)\n",
    "    temp=np.outer(i,i)\n",
    "    print(temp)\n",
    "    temp=np.kron(temp,V_i[r])\n",
    "    # print(temp)\n",
    "    V=V+temp\n",
    "print(V)\n"
   ]
  },
  {
   "cell_type": "code",
   "execution_count": 56,
   "metadata": {},
   "outputs": [
    {
     "name": "stdout",
     "output_type": "stream",
     "text": [
      "0 0\n",
      "1 3\n",
      "2 6\n",
      "3 1\n",
      "4 4\n",
      "5 7\n",
      "6 2\n",
      "7 5\n",
      "8 8\n",
      "[[1, 0, 0, 0, 0, 0, 0, 0, 0], [0, 0, 0, 1, 0, 0, 0, 0, 0], [0, 0, 0, 0, 0, 0, 1, 0, 0], [0, 1, 0, 0, 0, 0, 0, 0, 0], [0, 0, 0, 0, 1, 0, 0, 0, 0], [0, 0, 0, 0, 0, 0, 0, 1, 0], [0, 0, 1, 0, 0, 0, 0, 0, 0], [0, 0, 0, 0, 0, 1, 0, 0, 0], [0, 0, 0, 0, 0, 0, 0, 0, 1]]\n"
     ]
    }
   ],
   "source": [
    "##S matrix creation\n",
    "S=[]\n",
    "for i in range(9):\n",
    "    temp=[]\n",
    "    for j in range(9):\n",
    "        temp.append(0)\n",
    "    S.append(temp)\n",
    "a=0\n",
    "for i in range(len(P)):\n",
    "    for j in range(len(P[i])):\n",
    "        if(P[i][j]>0):\n",
    "            b=j*3+i\n",
    "            print(a,b)\n",
    "            S[a][b]=1\n",
    "        else:\n",
    "            S[a][a]=1\n",
    "        a=a+1\n",
    "print(S)"
   ]
  },
  {
   "cell_type": "code",
   "execution_count": 65,
   "metadata": {},
   "outputs": [
    {
     "name": "stdout",
     "output_type": "stream",
     "text": [
      "[1 0 0 1 0 0 1 0 0]\n",
      "[1. 0. 0. 1. 0. 0. 1. 0. 0.]\n",
      "[0.33333333 0.         0.         0.33333333 0.         0.\n",
      " 0.33333333 0.         0.        ]\n"
     ]
    }
   ],
   "source": [
    "##compute U, pi_b ,W matrix\n",
    "V_dagger=V.T\n",
    "U=np.matmul(S,V)\n",
    "U=np.matmul(V_dagger,U)\n",
    "b=One_Hot_vector(0,3)\n",
    "v=np.array([1,1,1])\n",
    "vb=np.kron(v,b)\n",
    "print(vb)\n",
    "I=np.identity(3)\n",
    "b_b=np.outer(b,b)\n",
    "Pi_b=np.kron(I,b_b)\n",
    "W=np.matmul(2*Pi_b-np.identity(len(Pi_b)),U)\n",
    "\n",
    "#one step walk\n",
    "fin=np.matmul(Pi_b,np.matmul(W,vb))\n",
    "print(fin)\n",
    "\n",
    "#2 step walk\n",
    "fin=np.matmul(Pi_b,np.matmul(np.square(W),vb))\n",
    "print(fin)\n"
   ]
  }
 ],
 "metadata": {
  "kernelspec": {
   "display_name": "base",
   "language": "python",
   "name": "python3"
  },
  "language_info": {
   "codemirror_mode": {
    "name": "ipython",
    "version": 3
   },
   "file_extension": ".py",
   "mimetype": "text/x-python",
   "name": "python",
   "nbconvert_exporter": "python",
   "pygments_lexer": "ipython3",
   "version": "3.9.13"
  },
  "orig_nbformat": 4
 },
 "nbformat": 4,
 "nbformat_minor": 2
}
