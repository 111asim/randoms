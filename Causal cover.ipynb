{
 "cells": [
  {
   "cell_type": "code",
   "execution_count": 3,
   "metadata": {},
   "outputs": [],
   "source": [
    "import numpy as np\n",
    "import random\n",
    "import itertools\n",
    "import math\n",
    "import matplotlib.pyplot as plt\n",
    "\n",
    "from qiskit import QuantumCircuit, transpile,Aer,execute\n",
    "from qiskit_aer import AerSimulator,qasm_simulator\n",
    "from qiskit.tools.visualization import plot_histogram\n",
    "from qiskit.quantum_info import DensityMatrix, partial_trace,random_statevector\n",
    "\n",
    "def get_cyclic_permutation(permutation):\n",
    "    '''\n",
    "    input: arbitary permutation of tokens in complete graph:list\n",
    "    output: cyclic permutation equivalent of the input:list of lists\n",
    "    '''\n",
    "    pi=permutation\n",
    "    cyclic_permutation=[]\n",
    "    n=len(pi)\n",
    "    not_in_cycle=list(range(n))\n",
    "    while len(not_in_cycle)!=0:\n",
    "        cycle=[]\n",
    "        start=not_in_cycle[0]\n",
    "        current=start\n",
    "        cycle.append(start)\n",
    "        not_in_cycle.remove(start)\n",
    "        final=-1\n",
    "        while final != start:\n",
    "            current=permutation[current]\n",
    "            cycle.append(current)\n",
    "            if(current in not_in_cycle):\n",
    "                not_in_cycle.remove(current)\n",
    "            final=current\n",
    "        cyclic_permutation.append(cycle)\n",
    "    cyclic=[]\n",
    "    for i in cyclic_permutation:\n",
    "        length=len(i)\n",
    "        if(length>2):\n",
    "            cyclic.append(i[:-1])\n",
    "    return(cyclic)\n",
    "def Get_Routing_via_matching(cyclic_permutation):\n",
    "    '''\n",
    "    input:cyclic permutations: list of lists\n",
    "    output: 2 step swaps that is equivalent to routing via matching 2 list of list(list of swaps)\n",
    "    '''\n",
    "    layer_1=[]\n",
    "    layer_2=[]\n",
    "    for cycle in  cyclic_permutation:\n",
    "        length=len(cycle)\n",
    "        for j in range(int(len(cycle)/2)):\n",
    "            layer_1.append([cycle[j],cycle[length-j-1]])\n",
    "            if(cycle[j+1]!=cycle[length-j-1]):\n",
    "                layer_2.append([cycle[j+1],cycle[length-j-1]])\n",
    "    return(layer_1,layer_2)\n",
    "\n",
    "def old_causaly_cover_nodes(M,i,j):##edges=M\n",
    "    '''\n",
    "    input: M=random matching for the complete graph\n",
    "           i=initial node n>=i,j>=0 int\n",
    "           j=final node \n",
    "    output:boolean:true: iand j are causaly cover\n",
    "                   false: i and j are not causaly covered\n",
    "    '''\n",
    "    path=[i]\n",
    "    cover=False\n",
    "    for matching in M: ##if you think about it M is nothing but random matching in our complete graph\n",
    "        for i in matching:\n",
    "            current=path[-1]\n",
    "            if(i[0]==current):\n",
    "                path.append(i[1])\n",
    "                if(i[1]==j):\n",
    "                    cover=True\n",
    "                break\n",
    "            elif(i[1]==current):\n",
    "                path.append(i[0])\n",
    "                if(i[0]==j):\n",
    "                    cover=True\n",
    "                break\n",
    "        if(cover==True):\n",
    "            # print(\"path for causaly cover=\",path)\n",
    "            return cover\n",
    "    return cover\n",
    "def causaly_cover_nodes(M,i,j):##edges=M\n",
    "    '''\n",
    "    input: M=random matching for the complete graph\n",
    "           i=initial node n>=i,j>=0 int\n",
    "           j=final node \n",
    "    output:boolean:true: iand j are causaly cover\n",
    "                   false: i and j are not causaly covered\n",
    "    '''\n",
    "    covered_set=[i]\n",
    "    cover=False\n",
    "    for matching in M: ##if you think about it M is nothing but random matching in our complete graph\n",
    "        for k in matching:\n",
    "            new_covered=[]\n",
    "            for l in covered_set:\n",
    "                current=l\n",
    "                if(k[0]==current):\n",
    "                    new_covered.append(k[1])\n",
    "                    if(k[1]==j):\n",
    "                        cover=True\n",
    "                        break\n",
    "                elif(k[1]==current):\n",
    "                    new_covered.append(k[0])\n",
    "                    if(k[0]==j):\n",
    "                        cover=True\n",
    "                        break\n",
    "            covered_set=covered_set+new_covered\n",
    "            if(cover==True):\n",
    "                # print(\"path for causaly cover=\",path)\n",
    "                return cover\n",
    "    return cover\n",
    "\n",
    "def causaly_cover_graph(M,n):\n",
    "    nodes=list(range(n))\n",
    "    ##get all the possible pair combination for nodes:\n",
    "    permutation=list(itertools.permutations(nodes,2))\n",
    "    for pairs in permutation:\n",
    "        is_causaly_cover=causaly_cover_nodes(M,pairs[0],pairs[1])\n",
    "        if(is_causaly_cover== False):\n",
    "            return(False,pairs)\n",
    "    return(True,(-1,-1))\n",
    "def create_M(pi):\n",
    "    ''' \n",
    "    input: random/ arbitary permutations\n",
    "    output:return all the matching generated for this permutations using 2 step routing algorithm\n",
    "    '''\n",
    "    ##pass all these permutation to get two step routing \n",
    "    M=[]\n",
    "    for i in range(len(pi)):\n",
    "        cyclic_permutation=get_cyclic_permutation(pi[i])\n",
    "        O,E=Get_Routing_via_matching(cyclic_permutation)\n",
    "        M.append(O)\n",
    "        M.append(E)\n",
    "    return M\n",
    "# permutation=random.sample(list(range(5)),5)\n",
    "# print(\"permutation=\",permutation)\n",
    "# cyclic_permutation=get_cyclic_permutation(permutation)\n",
    "# print(\"cyclic permutations=\",cyclic_permutation)\n",
    "# O,E=Get_Routing_via_matching(cyclic_permutation)\n",
    "# print(\"two step routing\",O,E)"
   ]
  },
  {
   "attachments": {},
   "cell_type": "markdown",
   "metadata": {},
   "source": [
    "### trying to see how many random permutation is required to make a graph causally covered"
   ]
  },
  {
   "cell_type": "code",
   "execution_count": 71,
   "metadata": {},
   "outputs": [
    {
     "name": "stdout",
     "output_type": "stream",
     "text": [
      "3\n",
      "False\n",
      "True\n",
      "5\n",
      "False\n",
      "False\n",
      "True\n",
      "9\n",
      "False\n",
      "False\n",
      "False\n",
      "True\n",
      "17\n",
      "False\n",
      "False\n",
      "False\n",
      "False\n",
      "True\n",
      "65\n",
      "False\n",
      "False\n",
      "False\n",
      "False\n",
      "False\n",
      "True\n",
      "129\n",
      "False\n",
      "False\n",
      "False\n",
      "False\n",
      "False\n",
      "True\n",
      "257.3\n"
     ]
    },
    {
     "ename": "TypeError",
     "evalue": "'float' object cannot be interpreted as an integer",
     "output_type": "error",
     "traceback": [
      "\u001b[0;31m---------------------------------------------------------------------------\u001b[0m",
      "\u001b[0;31mTypeError\u001b[0m                                 Traceback (most recent call last)",
      "\u001b[0;32m/var/folders/bn/bdb2r26j1455qswd6j9pcyjw0000gn/T/ipykernel_28414/3059129866.py\u001b[0m in \u001b[0;36m<module>\u001b[0;34m\u001b[0m\n\u001b[1;32m      3\u001b[0m \u001b[0;32mfor\u001b[0m \u001b[0mn\u001b[0m \u001b[0;32min\u001b[0m \u001b[0mnodes_trial\u001b[0m\u001b[0;34m:\u001b[0m \u001b[0;31m## for different graphs of n nodes\u001b[0m\u001b[0;34m\u001b[0m\u001b[0;34m\u001b[0m\u001b[0m\n\u001b[1;32m      4\u001b[0m     \u001b[0mprint\u001b[0m\u001b[0;34m(\u001b[0m\u001b[0mn\u001b[0m\u001b[0;34m)\u001b[0m\u001b[0;34m\u001b[0m\u001b[0;34m\u001b[0m\u001b[0m\n\u001b[0;32m----> 5\u001b[0;31m     \u001b[0mnodes\u001b[0m\u001b[0;34m=\u001b[0m\u001b[0mlist\u001b[0m\u001b[0;34m(\u001b[0m\u001b[0mrange\u001b[0m\u001b[0;34m(\u001b[0m\u001b[0mn\u001b[0m\u001b[0;34m)\u001b[0m\u001b[0;34m)\u001b[0m\u001b[0;34m\u001b[0m\u001b[0;34m\u001b[0m\u001b[0m\n\u001b[0m\u001b[1;32m      6\u001b[0m     \u001b[0mpi\u001b[0m\u001b[0;34m=\u001b[0m\u001b[0;34m[\u001b[0m\u001b[0;34m]\u001b[0m\u001b[0;34m\u001b[0m\u001b[0;34m\u001b[0m\u001b[0m\n\u001b[1;32m      7\u001b[0m     \u001b[0;32mfor\u001b[0m \u001b[0mk\u001b[0m \u001b[0;32min\u001b[0m \u001b[0mrange\u001b[0m\u001b[0;34m(\u001b[0m\u001b[0;36m1\u001b[0m\u001b[0;34m,\u001b[0m\u001b[0;36m100\u001b[0m\u001b[0;34m)\u001b[0m\u001b[0;34m:\u001b[0m \u001b[0;31m## create k different permutations\u001b[0m\u001b[0;34m\u001b[0m\u001b[0;34m\u001b[0m\u001b[0m\n",
      "\u001b[0;31mTypeError\u001b[0m: 'float' object cannot be interpreted as an integer"
     ]
    }
   ],
   "source": [
    "random_permutation_needed=[]\n",
    "nodes_trial=[3,5,9,17,65,129,257.300]\n",
    "for n in nodes_trial: ## for different graphs of n nodes\n",
    "    print(n)\n",
    "    nodes=list(range(n))\n",
    "    pi=[]\n",
    "    for k in range(1,100): ## create k different permutations\n",
    "        ##create K-different random permutations \n",
    "        pi.append(random.sample(nodes,n))\n",
    "        M=create_M(pi)\n",
    "        is_causaly_cover,pairs=causaly_cover_graph(M,n)\n",
    "        print(is_causaly_cover)\n",
    "        if(is_causaly_cover==True):\n",
    "            random_permutation_needed.append(k)\n",
    "            break\n",
    "    if(is_causaly_cover==False):\n",
    "        random_permutation_needed.append(-1)\n",
    "print(random_permutation_needed)\n",
    "\n",
    "# n=5\n",
    "# k=1\n",
    "# pi=[]\n",
    "# nodes=list(range(n))\n",
    "# #create K-different random permutations \n",
    "# for i in range(k):\n",
    "#     pi.append(random.sample(nodes,n))\n",
    "# print(\"permutation=\",pi)\n",
    "# M=create_M(pi)\n",
    "# print(\"M=\",M)\n",
    "# is_causaly_cover,pairs=causaly_cover_graph(M,n)\n",
    "# if(is_causaly_cover==False):\n",
    "#     print(\"these pairs are not causaly covered=\",pairs)\n",
    "#     print(\"M\",M)\n",
    "# print(\"is coudaly cover=\",is_causaly_cover)\n",
    "\n"
   ]
  },
  {
   "cell_type": "code",
   "execution_count": null,
   "metadata": {},
   "outputs": [
    {
     "name": "stdout",
     "output_type": "stream",
     "text": [
      "[[[0, 2], [4, 3]], [[4, 2]]]\n"
     ]
    }
   ],
   "source": [
    "## trying to implement the above algorithm using dynamic programming. still have not figured out.\n",
    "# n=5\n",
    "# pi=[]\n",
    "# pi.append(random.sample(list(range(n)),n))\n",
    "# M=[]\n",
    "# current_M=create_M([pi[-1]]) # trying one at a time so that it takes less time\n",
    "# M=M+current_M\n",
    "# causaly_cover=False\n",
    "# dynamic_table=[]\n",
    "# for i in range(n):\n",
    "#     row=[]\n",
    "#     for j in range(n):\n",
    "#         row.append([])\n",
    "#     dynamic_table.append([])\n",
    "\n",
    "# while causaly_cover==False:\n",
    "#     for match in current_M:\n",
    "#         for swaps in match:\n",
    "#             dynamic_table[swaps[0]][swaps[1]]=True\n",
    "        \n",
    "            \n",
    "\n",
    "# while causaly_cover==False:\n",
    "\n"
   ]
  },
  {
   "cell_type": "code",
   "execution_count": 64,
   "metadata": {},
   "outputs": [
    {
     "data": {
      "text/plain": [
       "Text(0, 0.5, 'random permutation required')"
      ]
     },
     "execution_count": 64,
     "metadata": {},
     "output_type": "execute_result"
    },
    {
     "data": {
      "image/png": "[encoded data removed]",
      "text/plain": [
       "<Figure size 640x480 with 1 Axes>"
      ]
     },
     "metadata": {},
     "output_type": "display_data"
    }
   ],
   "source": [
    "plt.plot(list(range(len(nodes_trial))),random_permutation_needed)\n",
    "\n",
    "plt.xlabel(\"graph size\")\n",
    "plt.ylabel('random permutation required')"
   ]
  },
  {
   "attachments": {},
   "cell_type": "markdown",
   "metadata": {},
   "source": [
    "### Now use this method to create a WD distribution in quantum circuit. see if O(log(n)) depth is suffiecient for creating WD distribution or not. "
   ]
  },
  {
   "cell_type": "code",
   "execution_count": 65,
   "metadata": {},
   "outputs": [],
   "source": [
    "##all the functions\n",
    "def initialize_R_product_state(q,n):\n",
    "    for i in range(n):\n",
    "        q.initialize(random_statevector(2).data,i)\n",
    "    return(q)\n",
    "def random_clifford(qc,n):\n",
    "    qubits_list=list(range(n))\n",
    "    for i in range(500):\n",
    "        choice=random.choices(['s','h','cnot','i'])[0]\n",
    "        qbit=random.choices(qubits_list)[0]\n",
    "        if choice=='s':\n",
    "            qc.s(qbit)\n",
    "        elif choice=='h':\n",
    "            qc.h(qbit)\n",
    "        elif choice=='i':\n",
    "            qc.i(qbit)\n",
    "        elif choice=='cnot':\n",
    "            c=qubits_list.copy()\n",
    "            c.remove(qbit)\n",
    "            control_bit=random.choices(c)[0]\n",
    "            order=[control_bit,qbit]\n",
    "            random.shuffle([control_bit,qbit]) ## randomize the cont order\n",
    "            qc.cnot(order[0],order[1])\n",
    "    return qc\n",
    "def random_clifford_with_depth(qc,n,depth):\n",
    "    qubits_list=list(range(n))\n",
    "    un_used_qubits=qubits_list.copy()\n",
    "    while len(un_used_qubits)>=1:\n",
    "        qbit=random.choice(un_used_qubits)\n",
    "        choice=random.choices(['s','h','cnot'])[0]\n",
    "        un_used_qubits.remove(qbit)\n",
    "        if choice=='s':\n",
    "            qc.s(qbit)\n",
    "        elif choice=='h':\n",
    "            qc.h(qbit)\n",
    "        elif choice=='cnot':\n",
    "            if(un_used_qubits!=[]):\n",
    "                control_bit=random.choices(un_used_qubits)[0]\n",
    "                order=[control_bit,qbit]\n",
    "                random.shuffle(order)\n",
    "                qc.cnot(order[0],order[1])\n",
    "\n",
    "    return qc\n",
    "def random_Cnot_permutation(qc,n):\n",
    "    pi=[]\n",
    "    nodes=list(range(n))\n",
    "    for i in range(int(math.log(n,2))):\n",
    "        pi.append(list(random.sample(nodes,n)))\n",
    "    M=create_M(pi)\n",
    "    ## now add the cnot gate layers according to the matching. \n",
    "    for i in M:\n",
    "        for cnots in i:\n",
    "            qc.cnot(cnots[0],cnots[1])\n",
    "        ## after each layer of cnots add random S,H gates to all other qubits\n",
    "        for i in range(n):\n",
    "            choice=random.choices(['s','h','i'])[0]\n",
    "            if choice=='s':\n",
    "                qc.s(i)\n",
    "            elif choice=='h':\n",
    "                qc.h(i)\n",
    "            elif choice=='i':\n",
    "                qc.i(i)\n",
    "    return qc\n",
    "def get_r_tildae(qc):\n",
    "    rho= DensityMatrix.from_instruction(qc) ##get the state vector of the system\n",
    "    # print(state)\n",
    "    rho_a=partial_trace(state=rho,qargs=list(range(int(n/2))))  ##rho_a is the reduced density matrix for the first a subsystem A(as the paper has divided the whole system into A and B subsystem)\n",
    "    eigenvalues=np.linalg.eigvals(rho_a.data) ##entanglement spectrum is the set of the eigen values of the reduced density matrix\n",
    "    ES=sorted(eigenvalues,reverse=True)\n",
    "    ES_real=[i.real for i in ES ]\n",
    "    lambd=ES_real\n",
    "    r_k_tilda=[]\n",
    "    for i in range(1,len(lambd)-1):\n",
    "        del_k=lambd[i-1]-lambd[i]\n",
    "        del_k_P1=lambd[i]-lambd[i+1]\n",
    "        r_k_tilda.append(min(del_k,del_k_P1)/max(del_k,del_k_P1))\n",
    "    r_mean=np.mean(r_k_tilda)\n",
    "    return r_mean\n",
    "def brick_1D_add_4_layer(qc,n): \n",
    "    layer=0\n",
    "    for i in range(0,n,2):\n",
    "        pair=[i,i+1]\n",
    "        random.shuffle(pair)\n",
    "        qc.cnot(pair[0],pair[1])\n",
    "    for i in range(n):\n",
    "        choice=random.choices(['s','h','i'])[0]\n",
    "        if choice=='s':\n",
    "            qc.s(i)\n",
    "        elif choice=='h':\n",
    "            qc.h(i)\n",
    "        elif choice=='i':\n",
    "            qc.i(i)\n",
    "    for i in range(1,n-1,2):\n",
    "        pair=[i,i+1]\n",
    "        random.shuffle(pair)\n",
    "        qc.cnot(pair[0],pair[1])\n",
    "    # qc.cnot(0,n-1)\n",
    "    for i in range(n):\n",
    "        choice=random.choices(['s','h','i'])[0]\n",
    "        if choice=='s':\n",
    "            qc.s(i)\n",
    "        elif choice=='h':\n",
    "            qc.h(i)\n",
    "        elif choice=='i':\n",
    "            qc.i(i)\n",
    "    return qc\n"
   ]
  },
  {
   "cell_type": "code",
   "execution_count": 62,
   "metadata": {},
   "outputs": [],
   "source": [
    "n=10\n",
    "depths=[8,16,24,32,40,48,56,64,72,80]\n",
    "\n",
    "trials=4\n",
    "\n",
    "base=QuantumCircuit(n)\n",
    "base=initialize_R_product_state(base,n)\n",
    "base=random_clifford(base,n)\n",
    "\n",
    "# qc_ours.draw()\n",
    "choice=random.choice(list(range(n)))\n",
    "# qc_ours.t(choice)\n",
    "for i in range(n):\n",
    "    base.t(i)\n",
    "qc_theirs=base.copy() ## same initial circuit\n",
    "qc_ours=base.copy()\n",
    "r_tildae_ours=[]\n",
    "r_tildae_each_trial=[]\n",
    "for t in range(trials):\n",
    "    qc_theirs=qc_ours.copy() ## same initial circuit\n",
    "    qc_ours=random_Cnot_permutation(qc_ours,n)\n",
    "    r_tildae_ours.append(get_r_tildae(qc_ours))\n",
    "    r_tildae_different_depths=[]\n",
    "    for depth in depths:\n",
    "        qc_theirs=brick_1D_add_4_layer(qc_theirs.copy(),n)\n",
    "        qc_theirs=brick_1D_add_4_layer(qc_theirs.copy(),n)\n",
    "\n",
    "        r_tildae_theirs=get_r_tildae(qc_theirs)\n",
    "        r_tildae_different_depths.append(r_tildae_theirs)\n",
    "    r_tildae_each_trial.append(r_tildae_different_depths)\n",
    "    "
   ]
  },
  {
   "cell_type": "code",
   "execution_count": 63,
   "metadata": {},
   "outputs": [
    {
     "name": "stdout",
     "output_type": "stream",
     "text": [
      "4\n",
      "0.555854379322614\n"
     ]
    }
   ],
   "source": [
    "print(len(r_tildae_each_trial))\n",
    "x=[i[0] for i in r_tildae_each_trial]\n",
    "print(np.mean(x))"
   ]
  },
  {
   "cell_type": "code",
   "execution_count": 64,
   "metadata": {},
   "outputs": [
    {
     "name": "stdout",
     "output_type": "stream",
     "text": [
      "[0.555854379322614, 0.5974774048411984, 0.5512250381550144, 0.550626563049183, 0.586384117926245, 0.5744822972840536, 0.597479807586671, 0.6387799920156868, 0.5558413846477466, 0.5567792954871876]\n"
     ]
    },
    {
     "data": {
      "text/plain": [
       "[<matplotlib.lines.Line2D at 0x7fb0482607f0>]"
      ]
     },
     "execution_count": 64,
     "metadata": {},
     "output_type": "execute_result"
    },
    {
     "data": {
      "image/png": "[encoded data removed]",
      "text/plain": [
       "<Figure size 640x480 with 1 Axes>"
      ]
     },
     "metadata": {},
     "output_type": "display_data"
    }
   ],
   "source": [
    "## for computing the mean of trials for each depth\n",
    "mean_r_tildae_theirs=[]\n",
    "for j in range(len(depths)):\n",
    "    each_depth_temp=[]\n",
    "    for t in range(trials):\n",
    "        each_depth_temp.append(r_tildae_each_trial[t][j])\n",
    "    mean_r_tildae_theirs.append(np.mean(each_depth_temp))\n",
    "print(mean_r_tildae_theirs)\n",
    "plt.plot(mean_r_tildae_theirs,depths)"
   ]
  },
  {
   "cell_type": "code",
   "execution_count": 32,
   "metadata": {},
   "outputs": [
    {
     "data": {
      "text/plain": [
       "0.5150204873856357"
      ]
     },
     "execution_count": 32,
     "metadata": {},
     "output_type": "execute_result"
    }
   ],
   "source": [
    "# plt.plot(r_tildae_different_depths)\n",
    "np.mean(r_tildae_different_depths[i*8:i*8+trials])"
   ]
  },
  {
   "cell_type": "code",
   "execution_count": 33,
   "metadata": {},
   "outputs": [
    {
     "name": "stdout",
     "output_type": "stream",
     "text": [
      "density matrix= DensityMatrix([[0.5+0.j, 0. +0.j, 0. +0.j, 0.5+0.j],\n",
      "               [0. +0.j, 0. +0.j, 0. +0.j, 0. +0.j],\n",
      "               [0. +0.j, 0. +0.j, 0. +0.j, 0. +0.j],\n",
      "               [0.5+0.j, 0. +0.j, 0. +0.j, 0.5+0.j]],\n",
      "              dims=(2, 2))\n",
      "reduced density matrix= DensityMatrix([[0.5+0.j, 0. +0.j],\n",
      "               [0. +0.j, 0.5+0.j]],\n",
      "              dims=(2,))\n",
      "[(0.4999999999999999+0j), (0.4999999999999999+0j)]\n",
      "nan\n"
     ]
    },
    {
     "name": "stderr",
     "output_type": "stream",
     "text": [
      "/Users/111asim/opt/anaconda3/lib/python3.9/site-packages/numpy/core/fromnumeric.py:3440: RuntimeWarning: Mean of empty slice.\n",
      "  return _methods._mean(a, axis=axis, dtype=dtype,\n",
      "/Users/111asim/opt/anaconda3/lib/python3.9/site-packages/numpy/core/_methods.py:189: RuntimeWarning: invalid value encountered in double_scalars\n",
      "  ret = ret.dtype.type(ret / rcount)\n"
     ]
    }
   ],
   "source": [
    "qc=QuantumCircuit(2)\n",
    "qc.initialize([1,0],0)\n",
    "qc.initialize([1,0],1)\n",
    "qc.h(0)\n",
    "qc.cnot(0,1)\n",
    "rho=DensityMatrix(qc)\n",
    "print(\"density matrix=\",rho)\n",
    "rho_a=partial_trace(state=rho,qargs=[1]) ##rho_a is the reduced density matrix for the first a subsystem A(as the paper has divided the whole system into A and B subsystem)\n",
    "print('reduced density matrix=',rho_a)\n",
    "eigenvalues=np.linalg.eigvals(rho_a.data) ##entanglement spectrum is the set of the eigen values of the reduced density matrix\n",
    "ES=sorted(eigenvalues,reverse=True)\n",
    "print(ES)\n",
    "ES_real=[i.real for i in ES ]\n",
    "lambd=ES_real\n",
    "r_k_tilda=[]\n",
    "for i in range(1,len(lambd)-1):\n",
    "    del_k=lambd[i-1]-lambd[i]\n",
    "    del_k_P1=lambd[i]-lambd[i+1]\n",
    "    r_k_tilda.append(min(del_k,del_k_P1)/max(del_k,del_k_P1))\n",
    "r_mean=np.mean(r_k_tilda)\n",
    "print(r_mean)\n"
   ]
  },
  {
   "cell_type": "code",
   "execution_count": null,
   "metadata": {},
   "outputs": [],
   "source": []
  }
 ],
 "metadata": {
  "kernelspec": {
   "display_name": "Python 3",
   "language": "python",
   "name": "python3"
  },
  "language_info": {
   "codemirror_mode": {
    "name": "ipython",
    "version": 3
   },
   "file_extension": ".py",
   "mimetype": "text/x-python",
   "name": "python",
   "nbconvert_exporter": "python",
   "pygments_lexer": "ipython3",
   "version": "3.9.13"
  },
  "orig_nbformat": 4
 },
 "nbformat": 4,
 "nbformat_minor": 2
}
