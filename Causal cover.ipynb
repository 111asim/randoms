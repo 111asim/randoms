{
 "cells": [
  {
   "cell_type": "code",
   "execution_count": 54,
   "metadata": {},
   "outputs": [
    {
     "name": "stdout",
     "output_type": "stream",
     "text": [
      "permutation= [3, 4, 0, 2, 1]\n",
      "cyclic permutations= [[0, 3, 2], [1, 4]]\n",
      "two step routing [[0, 2], [1, 4]] [[3, 2]]\n"
     ]
    }
   ],
   "source": [
    "import numpy as np\n",
    "import random\n",
    "import itertools\n",
    "import math\n",
    "import matplotlib.pyplot as plt\n",
    "\n",
    "def get_cyclic_permutation(permutation):\n",
    "    '''\n",
    "    input: arbitary permutation of tokens in complete graph:list\n",
    "    output: cyclic permutation equivalent of the input:list of lists\n",
    "    '''\n",
    "    pi=permutation\n",
    "    cyclic_permutation=[]\n",
    "    n=len(pi)\n",
    "    not_in_cycle=list(range(n))\n",
    "    while len(not_in_cycle)!=0:\n",
    "        cycle=[]\n",
    "        start=not_in_cycle[0]\n",
    "        current=start\n",
    "        cycle.append(start)\n",
    "        not_in_cycle.remove(start)\n",
    "        final=-1\n",
    "        while final != start:\n",
    "            current=permutation[current]\n",
    "            cycle.append(current)\n",
    "            if(current in not_in_cycle):\n",
    "                not_in_cycle.remove(current)\n",
    "            final=current\n",
    "        cyclic_permutation.append(cycle)\n",
    "    cyclic=[]\n",
    "    for i in cyclic_permutation:\n",
    "        length=len(i)\n",
    "        if(length>2):\n",
    "            cyclic.append(i[:-1])\n",
    "    return(cyclic)\n",
    "def Get_Routing_via_matching(cyclic_permutation):\n",
    "    '''\n",
    "    input:cyclic permutations: list of lists\n",
    "    output: 2 step swaps that is equivalent to routing via matching 2 list of list(list of swaps)\n",
    "    '''\n",
    "    layer_1=[]\n",
    "    layer_2=[]\n",
    "    for cycle in  cyclic_permutation:\n",
    "        length=len(cycle)\n",
    "        for j in range(int(len(cycle)/2)):\n",
    "            layer_1.append([cycle[j],cycle[length-j-1]])\n",
    "            if(cycle[j+1]!=cycle[length-j-1]):\n",
    "                layer_2.append([cycle[j+1],cycle[length-j-1]])\n",
    "    return(layer_1,layer_2)\n",
    "\n",
    "def old_causaly_cover_nodes(M,i,j):##edges=M\n",
    "    '''\n",
    "    input: M=random matching for the complete graph\n",
    "           i=initial node n>=i,j>=0 int\n",
    "           j=final node \n",
    "    output:boolean:true: iand j are causaly cover\n",
    "                   false: i and j are not causaly covered\n",
    "    '''\n",
    "    path=[i]\n",
    "    cover=False\n",
    "    for matching in M: ##if you think about it M is nothing but random matching in our complete graph\n",
    "        for i in matching:\n",
    "            current=path[-1]\n",
    "            if(i[0]==current):\n",
    "                path.append(i[1])\n",
    "                if(i[1]==j):\n",
    "                    cover=True\n",
    "                break\n",
    "            elif(i[1]==current):\n",
    "                path.append(i[0])\n",
    "                if(i[0]==j):\n",
    "                    cover=True\n",
    "                break\n",
    "        if(cover==True):\n",
    "            # print(\"path for causaly cover=\",path)\n",
    "            return cover\n",
    "    return cover\n",
    "def causaly_cover_nodes(M,i,j):##edges=M\n",
    "    '''\n",
    "    input: M=random matching for the complete graph\n",
    "           i=initial node n>=i,j>=0 int\n",
    "           j=final node \n",
    "    output:boolean:true: iand j are causaly cover\n",
    "                   false: i and j are not causaly covered\n",
    "    '''\n",
    "    covered_set=[i]\n",
    "    cover=False\n",
    "    for matching in M: ##if you think about it M is nothing but random matching in our complete graph\n",
    "        for k in matching:\n",
    "            new_covered=[]\n",
    "            for l in covered_set:\n",
    "                current=l\n",
    "                if(k[0]==current):\n",
    "                    new_covered.append(k[1])\n",
    "                    if(k[1]==j):\n",
    "                        cover=True\n",
    "                        break\n",
    "                elif(k[1]==current):\n",
    "                    new_covered.append(k[0])\n",
    "                    if(k[0]==j):\n",
    "                        cover=True\n",
    "                        break\n",
    "            covered_set=covered_set+new_covered\n",
    "            if(cover==True):\n",
    "                # print(\"path for causaly cover=\",path)\n",
    "                return cover\n",
    "    return cover\n",
    "\n",
    "def causaly_cover_graph(M,n):\n",
    "    nodes=list(range(n))\n",
    "    ##get all the possible pair combination for nodes:\n",
    "    permutation=list(itertools.permutations(nodes,2))\n",
    "    for pairs in permutation:\n",
    "        is_causaly_cover=causaly_cover_nodes(M,pairs[0],pairs[1])\n",
    "        if(is_causaly_cover== False):\n",
    "            return(False,pairs)\n",
    "    return(True,(-1,-1))\n",
    "def create_M(pi):\n",
    "    ''' \n",
    "    input: random/ arbitary permutations\n",
    "    output:return all the matching generated for this permutations using 2 step routing algorithm\n",
    "    '''\n",
    "    ##pass all these permutation to get two step routing \n",
    "    M=[]\n",
    "    for i in range(len(pi)):\n",
    "        cyclic_permutation=get_cyclic_permutation(pi[i])\n",
    "        O,E=Get_Routing_via_matching(cyclic_permutation)\n",
    "        M.append(O)\n",
    "        M.append(E)\n",
    "    return M\n",
    "# permutation=random.sample(list(range(5)),5)\n",
    "# print(\"permutation=\",permutation)\n",
    "# cyclic_permutation=get_cyclic_permutation(permutation)\n",
    "# print(\"cyclic permutations=\",cyclic_permutation)\n",
    "# O,E=Get_Routing_via_matching(cyclic_permutation)\n",
    "# print(\"two step routing\",O,E)"
   ]
  },
  {
   "attachments": {},
   "cell_type": "markdown",
   "metadata": {},
   "source": [
    "### trying to see how many random permutation is required to make a graph causally covered"
   ]
  },
  {
   "cell_type": "code",
   "execution_count": 71,
   "metadata": {},
   "outputs": [
    {
     "name": "stdout",
     "output_type": "stream",
     "text": [
      "3\n",
      "False\n",
      "True\n",
      "5\n",
      "False\n",
      "False\n",
      "True\n",
      "9\n",
      "False\n",
      "False\n",
      "False\n",
      "True\n",
      "17\n",
      "False\n",
      "False\n",
      "False\n",
      "False\n",
      "True\n",
      "65\n",
      "False\n",
      "False\n",
      "False\n",
      "False\n",
      "False\n",
      "True\n",
      "129\n",
      "False\n",
      "False\n",
      "False\n",
      "False\n",
      "False\n",
      "True\n",
      "257.3\n"
     ]
    },
    {
     "ename": "TypeError",
     "evalue": "'float' object cannot be interpreted as an integer",
     "output_type": "error",
     "traceback": [
      "\u001b[0;31m---------------------------------------------------------------------------\u001b[0m",
      "\u001b[0;31mTypeError\u001b[0m                                 Traceback (most recent call last)",
      "\u001b[0;32m/var/folders/bn/bdb2r26j1455qswd6j9pcyjw0000gn/T/ipykernel_28414/3059129866.py\u001b[0m in \u001b[0;36m<module>\u001b[0;34m\u001b[0m\n\u001b[1;32m      3\u001b[0m \u001b[0;32mfor\u001b[0m \u001b[0mn\u001b[0m \u001b[0;32min\u001b[0m \u001b[0mnodes_trial\u001b[0m\u001b[0;34m:\u001b[0m \u001b[0;31m## for different graphs of n nodes\u001b[0m\u001b[0;34m\u001b[0m\u001b[0;34m\u001b[0m\u001b[0m\n\u001b[1;32m      4\u001b[0m     \u001b[0mprint\u001b[0m\u001b[0;34m(\u001b[0m\u001b[0mn\u001b[0m\u001b[0;34m)\u001b[0m\u001b[0;34m\u001b[0m\u001b[0;34m\u001b[0m\u001b[0m\n\u001b[0;32m----> 5\u001b[0;31m     \u001b[0mnodes\u001b[0m\u001b[0;34m=\u001b[0m\u001b[0mlist\u001b[0m\u001b[0;34m(\u001b[0m\u001b[0mrange\u001b[0m\u001b[0;34m(\u001b[0m\u001b[0mn\u001b[0m\u001b[0;34m)\u001b[0m\u001b[0;34m)\u001b[0m\u001b[0;34m\u001b[0m\u001b[0;34m\u001b[0m\u001b[0m\n\u001b[0m\u001b[1;32m      6\u001b[0m     \u001b[0mpi\u001b[0m\u001b[0;34m=\u001b[0m\u001b[0;34m[\u001b[0m\u001b[0;34m]\u001b[0m\u001b[0;34m\u001b[0m\u001b[0;34m\u001b[0m\u001b[0m\n\u001b[1;32m      7\u001b[0m     \u001b[0;32mfor\u001b[0m \u001b[0mk\u001b[0m \u001b[0;32min\u001b[0m \u001b[0mrange\u001b[0m\u001b[0;34m(\u001b[0m\u001b[0;36m1\u001b[0m\u001b[0;34m,\u001b[0m\u001b[0;36m100\u001b[0m\u001b[0;34m)\u001b[0m\u001b[0;34m:\u001b[0m \u001b[0;31m## create k different permutations\u001b[0m\u001b[0;34m\u001b[0m\u001b[0;34m\u001b[0m\u001b[0m\n",
      "\u001b[0;31mTypeError\u001b[0m: 'float' object cannot be interpreted as an integer"
     ]
    }
   ],
   "source": [
    "random_permutation_needed=[]\n",
    "nodes_trial=[3,5,9,17,65,129,257.300]\n",
    "for n in nodes_trial: ## for different graphs of n nodes\n",
    "    print(n)\n",
    "    nodes=list(range(n))\n",
    "    pi=[]\n",
    "    for k in range(1,100): ## create k different permutations\n",
    "        ##create K-different random permutations \n",
    "        pi.append(random.sample(nodes,n))\n",
    "        M=create_M(pi)\n",
    "        is_causaly_cover,pairs=causaly_cover_graph(M,n)\n",
    "        print(is_causaly_cover)\n",
    "        if(is_causaly_cover==True):\n",
    "            random_permutation_needed.append(k)\n",
    "            break\n",
    "    if(is_causaly_cover==False):\n",
    "        random_permutation_needed.append(-1)\n",
    "print(random_permutation_needed)\n",
    "\n",
    "# n=5\n",
    "# k=1\n",
    "# pi=[]\n",
    "# nodes=list(range(n))\n",
    "# #create K-different random permutations \n",
    "# for i in range(k):\n",
    "#     pi.append(random.sample(nodes,n))\n",
    "# print(\"permutation=\",pi)\n",
    "# M=create_M(pi)\n",
    "# print(\"M=\",M)\n",
    "# is_causaly_cover,pairs=causaly_cover_graph(M,n)\n",
    "# if(is_causaly_cover==False):\n",
    "#     print(\"these pairs are not causaly covered=\",pairs)\n",
    "#     print(\"M\",M)\n",
    "# print(\"is coudaly cover=\",is_causaly_cover)\n",
    "\n"
   ]
  },
  {
   "cell_type": "code",
   "execution_count": null,
   "metadata": {},
   "outputs": [
    {
     "name": "stdout",
     "output_type": "stream",
     "text": [
      "[[[0, 2], [4, 3]], [[4, 2]]]\n"
     ]
    }
   ],
   "source": [
    "# n=5\n",
    "# pi=[]\n",
    "# pi.append(random.sample(list(range(n)),n))\n",
    "# M=[]\n",
    "# current_M=create_M([pi[-1]]) # trying one at a time so that it takes less time\n",
    "# M=M+current_M\n",
    "# causaly_cover=False\n",
    "# dynamic_table=[]\n",
    "# for i in range(n):\n",
    "#     row=[]\n",
    "#     for j in range(n):\n",
    "#         row.append([])\n",
    "#     dynamic_table.append([])\n",
    "\n",
    "# while causaly_cover==False:\n",
    "#     for match in current_M:\n",
    "#         for swaps in match:\n",
    "#             dynamic_table[swaps[0]][swaps[1]]=True\n",
    "        \n",
    "            \n",
    "\n",
    "# while causaly_cover==False:\n",
    "\n"
   ]
  },
  {
   "cell_type": "code",
   "execution_count": 64,
   "metadata": {},
   "outputs": [
    {
     "data": {
      "text/plain": [
       "Text(0, 0.5, 'random permutation required')"
      ]
     },
     "execution_count": 64,
     "metadata": {},
     "output_type": "execute_result"
    },
    {
     "data": {
      "image/png": "[encoded data removed]",
      "text/plain": [
       "<Figure size 640x480 with 1 Axes>"
      ]
     },
     "metadata": {},
     "output_type": "display_data"
    }
   ],
   "source": [
    "plt.plot(list(range(len(nodes_trial))),random_permutation_needed)\n",
    "\n",
    "plt.xlabel(\"graph size\")\n",
    "plt.ylabel('random permutation required')"
   ]
  },
  {
   "attachments": {},
   "cell_type": "markdown",
   "metadata": {},
   "source": [
    "### Now use this method to create a WD distribution in quantum circuit. see if O(log(n)) depth is suffiecient for creating WD distribution or not. "
   ]
  },
  {
   "cell_type": "code",
   "execution_count": null,
   "metadata": {},
   "outputs": [],
   "source": []
  }
 ],
 "metadata": {
  "kernelspec": {
   "display_name": "Python 3",
   "language": "python",
   "name": "python3"
  },
  "language_info": {
   "codemirror_mode": {
    "name": "ipython",
    "version": 3
   },
   "file_extension": ".py",
   "mimetype": "text/x-python",
   "name": "python",
   "nbconvert_exporter": "python",
   "pygments_lexer": "ipython3",
   "version": "3.9.13"
  },
  "orig_nbformat": 4
 },
 "nbformat": 4,
 "nbformat_minor": 2
}
