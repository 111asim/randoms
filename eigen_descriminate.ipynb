{
 "cells": [
  {
   "cell_type": "code",
   "execution_count": 1,
   "metadata": {},
   "outputs": [],
   "source": [
    "import numpy as np\n",
    "P = np.array([[0.2, 0.3, 0.5],\n",
    "              [0.4, 0.2, 0.4],\n",
    "              [0.1, 0.6, 0.3]])"
   ]
  },
  {
   "cell_type": "code",
   "execution_count": 36,
   "metadata": {},
   "outputs": [],
   "source": [
    "\n",
    "def stationary_distrib(P):\n",
    "    # Transpose of the transition matrix\n",
    "    P_transpose = P.T\n",
    "\n",
    "    # Compute eigenvalues and eigenvectors\n",
    "    eigenvalues, eigenvectors = np.linalg.eig(P_transpose)\n",
    "    print(eigenvalues, eigenvectors)\n",
    "    # Find the index of the eigenvalue 1\n",
    "    index_of_unity = np.where(np.isclose(np.abs(eigenvalues), 1,0.01076))[0][0]\n",
    "\n",
    "    # Corresponding eigenvector is the stationary distribution\n",
    "    stationary_distribution = np.real(eigenvectors[:, index_of_unity])\n",
    "    stationary_distribution /= stationary_distribution.sum()\n",
    "\n",
    "    # Verify that pi P = pi\n",
    "    result = np.dot(stationary_distribution, P)\n",
    "    return (stationary_distribution)"
   ]
  },
  {
   "cell_type": "code",
   "execution_count": 35,
   "metadata": {},
   "outputs": [
    {
     "name": "stdout",
     "output_type": "stream",
     "text": [
      "[ 1.  +0.j         -0.15+0.16583124j -0.15-0.16583124j] [[ 0.40223738+0.j         -0.54554473-0.36187343j -0.54554473+0.36187343j]\n",
      " [ 0.64106583+0.j          0.65465367+0.j          0.65465367-0.j        ]\n",
      " [ 0.65363575+0.j         -0.10910895+0.36187343j -0.10910895-0.36187343j]]\n",
      "[0.23703704 0.37777778 0.38518519]\n"
     ]
    }
   ],
   "source": [
    "stationary_distribution=stationary_distrib(P)\n",
    "print(stationary_distribution)\n",
    "pi=stationary_distribution"
   ]
  },
  {
   "cell_type": "code",
   "execution_count": 10,
   "metadata": {},
   "outputs": [
    {
     "name": "stdout",
     "output_type": "stream",
     "text": [
      "[0.23703704 0.37777778 0.38518519] [0.16179491 0.4109654  0.42723969]\n"
     ]
    }
   ],
   "source": [
    "##calculate time reverse counter part\n",
    "P_r=np.copy(P)\n",
    "for i in range(len(P)):\n",
    "    for j in range(len(P[0])):\n",
    "        P_r[i][j]=P[i][j]*pi[j]/pi[i]\n",
    "stat_dist_P_r=stationary_distrib(P_r)\n",
    "print(stationary_distribution,stat_dist_P_r)"
   ]
  },
  {
   "cell_type": "code",
   "execution_count": 7,
   "metadata": {},
   "outputs": [
    {
     "name": "stdout",
     "output_type": "stream",
     "text": [
      "P= [[0.2 0.3 0.5]\n",
      " [0.4 0.2 0.4]\n",
      " [0.1 0.6 0.3]]\n",
      "P_r= [[0.2        0.478125   0.8125    ]\n",
      " [0.25098039 0.2        0.40784314]\n",
      " [0.06153846 0.58846154 0.3       ]]\n"
     ]
    }
   ],
   "source": [
    "print(\"P=\",P)\n",
    "print(\"P_r=\",P_r)"
   ]
  },
  {
   "cell_type": "code",
   "execution_count": 38,
   "metadata": {},
   "outputs": [
    {
     "name": "stdout",
     "output_type": "stream",
     "text": [
      "[ 1.01076+0.j         -0.15538+0.17406139j -0.15538-0.17406139j] [[ 0.33093427+0.j         -0.46135621-0.32059476j -0.46135621+0.32059476j]\n",
      " [ 0.65599036+0.j          0.70480575+0.j          0.70480575-0.j        ]\n",
      " [ 0.67835032+0.j         -0.11944428+0.41635486j -0.11944428-0.41635486j]]\n",
      "[0.1987265  0.39392316 0.40735034]\n",
      "[0.2008648  0.39816177 0.41173343]\n"
     ]
    }
   ],
   "source": [
    "# Q=P+P_r\n",
    "# Q=np.array(Q/2)\n",
    "# print(Q)\n",
    "stat_dist_Q=stationary_distrib(Q)\n",
    "print(stat_dist_Q)\n",
    "print(np.matmul(stat_dist_Q,Q))\n"
   ]
  }
 ],
 "metadata": {
  "kernelspec": {
   "display_name": "base",
   "language": "python",
   "name": "python3"
  },
  "language_info": {
   "codemirror_mode": {
    "name": "ipython",
    "version": 3
   },
   "file_extension": ".py",
   "mimetype": "text/x-python",
   "name": "python",
   "nbconvert_exporter": "python",
   "pygments_lexer": "ipython3",
   "version": "3.9.13"
  },
  "orig_nbformat": 4
 },
 "nbformat": 4,
 "nbformat_minor": 2
}
