{
 "cells": [
  {
   "cell_type": "code",
   "execution_count": 15,
   "metadata": {},
   "outputs": [
    {
     "data": {
      "text/html": [
       "<pre style=\"word-wrap: normal;white-space: pre;background: #fff0;line-height: 1.1;font-family: &quot;Courier New&quot;,Courier,monospace\">        ┌─────────────────┐                                                  »\n",
       "   q_0: ┤ Initialize(0,1) ├──■─────────────────────────────■────■────────────»\n",
       "        ├─────────────────┤  │                             │    │            »\n",
       "   q_1: ┤ Initialize(0,1) ├──┼────■──────────────■─────────┼────┼────────────»\n",
       "        ├─────────────────┤  │    │              │         │  ┌─┴─┐          »\n",
       "   q_2: ┤ Initialize(0,1) ├──■────┼──────────────┼─────────■──┤ X ├──────────»\n",
       "        ├─────────────────┤  │  ┌─┴─┐            │         │  └───┘          »\n",
       "   q_3: ┤ Initialize(1,0) ├──┼──┤ X ├──■─────────■─────────┼─────────────────»\n",
       "        ├─────────────────┤┌─┴─┐└───┘  │         │       ┌─┴─┐┌───┐┌───┐     »\n",
       "   q_4: ┤ Initialize(1,0) ├┤ X ├───────┼────■────┼────■──┤ X ├┤ X ├┤ X ├──■──»\n",
       "        ├─────────────────┤└───┘       │  ┌─┴─┐  │    │  └───┘└─┬─┘└─┬─┘┌─┴─┐»\n",
       "   q_5: ┤ Initialize(1,0) ├────────────┼──┤ X ├──┼────┼─────────■────┼──┤ X ├»\n",
       "        ├─────────────────┤            │  └─┬─┘┌─┴─┐  │         │    │  └───┘»\n",
       "   q_6: ┤ Initialize(1,0) ├────────────┼────┼──┤ X ├──┼─────────■────■───────»\n",
       "        ├─────────────────┤          ┌─┴─┐  │  └───┘┌─┴─┐                    »\n",
       "   q_7: ┤ Initialize(1,0) ├──────────┤ X ├──■───────┤ X ├────────────────────»\n",
       "        └─────────────────┘          └───┘          └───┘                    »\n",
       "meas: 8/═════════════════════════════════════════════════════════════════════»\n",
       "                                                                             »\n",
       "«                             ░ ┌─┐                     \n",
       "«   q_0: ─────────────────■───░─┤M├─────────────────────\n",
       "«                         │   ░ └╥┘┌─┐                  \n",
       "«   q_1: ──■─────────■────┼───░──╫─┤M├──────────────────\n",
       "«          │         │  ┌─┴─┐ ░  ║ └╥┘┌─┐               \n",
       "«   q_2: ──┼────■────┼──┤ X ├─░──╫──╫─┤M├───────────────\n",
       "«          │    │  ┌─┴─┐└───┘ ░  ║  ║ └╥┘┌─┐            \n",
       "«   q_3: ──■────┼──┤ X ├──────░──╫──╫──╫─┤M├────────────\n",
       "«          │    │  └───┘      ░  ║  ║  ║ └╥┘┌─┐         \n",
       "«   q_4: ──┼────┼─────────────░──╫──╫──╫──╫─┤M├─────────\n",
       "«          │    │             ░  ║  ║  ║  ║ └╥┘┌─┐      \n",
       "«   q_5: ──┼────┼─────────────░──╫──╫──╫──╫──╫─┤M├──────\n",
       "«        ┌─┴─┐┌─┴─┐           ░  ║  ║  ║  ║  ║ └╥┘┌─┐   \n",
       "«   q_6: ┤ X ├┤ X ├───────────░──╫──╫──╫──╫──╫──╫─┤M├───\n",
       "«        └───┘└───┘           ░  ║  ║  ║  ║  ║  ║ └╥┘┌─┐\n",
       "«   q_7: ─────────────────────░──╫──╫──╫──╫──╫──╫──╫─┤M├\n",
       "«                             ░  ║  ║  ║  ║  ║  ║  ║ └╥┘\n",
       "«meas: 8/════════════════════════╩══╩══╩══╩══╩══╩══╩══╩═\n",
       "«                                0  1  2  3  4  5  6  7 </pre>"
      ],
      "text/plain": [
       "        ┌─────────────────┐                                                  »\n",
       "   q_0: ┤ Initialize(0,1) ├──■─────────────────────────────■────■────────────»\n",
       "        ├─────────────────┤  │                             │    │            »\n",
       "   q_1: ┤ Initialize(0,1) ├──┼────■──────────────■─────────┼────┼────────────»\n",
       "        ├─────────────────┤  │    │              │         │  ┌─┴─┐          »\n",
       "   q_2: ┤ Initialize(0,1) ├──■────┼──────────────┼─────────■──┤ X ├──────────»\n",
       "        ├─────────────────┤  │  ┌─┴─┐            │         │  └───┘          »\n",
       "   q_3: ┤ Initialize(1,0) ├──┼──┤ X ├──■─────────■─────────┼─────────────────»\n",
       "        ├─────────────────┤┌─┴─┐└───┘  │         │       ┌─┴─┐┌───┐┌───┐     »\n",
       "   q_4: ┤ Initialize(1,0) ├┤ X ├───────┼────■────┼────■──┤ X ├┤ X ├┤ X ├──■──»\n",
       "        ├─────────────────┤└───┘       │  ┌─┴─┐  │    │  └───┘└─┬─┘└─┬─┘┌─┴─┐»\n",
       "   q_5: ┤ Initialize(1,0) ├────────────┼──┤ X ├──┼────┼─────────■────┼──┤ X ├»\n",
       "        ├─────────────────┤            │  └─┬─┘┌─┴─┐  │         │    │  └───┘»\n",
       "   q_6: ┤ Initialize(1,0) ├────────────┼────┼──┤ X ├──┼─────────■────■───────»\n",
       "        ├─────────────────┤          ┌─┴─┐  │  └───┘┌─┴─┐                    »\n",
       "   q_7: ┤ Initialize(1,0) ├──────────┤ X ├──■───────┤ X ├────────────────────»\n",
       "        └─────────────────┘          └───┘          └───┘                    »\n",
       "meas: 8/═════════════════════════════════════════════════════════════════════»\n",
       "                                                                             »\n",
       "«                             ░ ┌─┐                     \n",
       "«   q_0: ─────────────────■───░─┤M├─────────────────────\n",
       "«                         │   ░ └╥┘┌─┐                  \n",
       "«   q_1: ──■─────────■────┼───░──╫─┤M├──────────────────\n",
       "«          │         │  ┌─┴─┐ ░  ║ └╥┘┌─┐               \n",
       "«   q_2: ──┼────■────┼──┤ X ├─░──╫──╫─┤M├───────────────\n",
       "«          │    │  ┌─┴─┐└───┘ ░  ║  ║ └╥┘┌─┐            \n",
       "«   q_3: ──■────┼──┤ X ├──────░──╫──╫──╫─┤M├────────────\n",
       "«          │    │  └───┘      ░  ║  ║  ║ └╥┘┌─┐         \n",
       "«   q_4: ──┼────┼─────────────░──╫──╫──╫──╫─┤M├─────────\n",
       "«          │    │             ░  ║  ║  ║  ║ └╥┘┌─┐      \n",
       "«   q_5: ──┼────┼─────────────░──╫──╫──╫──╫──╫─┤M├──────\n",
       "«        ┌─┴─┐┌─┴─┐           ░  ║  ║  ║  ║  ║ └╥┘┌─┐   \n",
       "«   q_6: ┤ X ├┤ X ├───────────░──╫──╫──╫──╫──╫──╫─┤M├───\n",
       "«        └───┘└───┘           ░  ║  ║  ║  ║  ║  ║ └╥┘┌─┐\n",
       "«   q_7: ─────────────────────░──╫──╫──╫──╫──╫──╫──╫─┤M├\n",
       "«                             ░  ║  ║  ║  ║  ║  ║  ║ └╥┘\n",
       "«meas: 8/════════════════════════╩══╩══╩══╩══╩══╩══╩══╩═\n",
       "«                                0  1  2  3  4  5  6  7 "
      ]
     },
     "execution_count": 15,
     "metadata": {},
     "output_type": "execute_result"
    }
   ],
   "source": [
    "\n",
    "# import numpy as np\n",
    "from qiskit import QuantumCircuit, transpile\n",
    "# from qiskit.quantum_info import Kraus, SuperOp\n",
    "from qiskit_aer import AerSimulator\n",
    "from qiskit.tools.visualization import plot_histogram\n",
    "q=QuantumCircuit(8)\n",
    "q.initialize([0,1],0)\n",
    "q.initialize([0,1],1)\n",
    "q.initialize([0,1],2)\n",
    "q.initialize([1,0],3)\n",
    "\n",
    "for i in [4,5,6,7]:\n",
    "    q.initialize([1,0],i)\n",
    "\n",
    "q.toffoli(0,2,4)\n",
    "q.cnot(1,3)\n",
    "q.cnot(3,7)\n",
    "q.toffoli(4,7,5)\n",
    "q.cnot(4,7)\n",
    "q.toffoli(0,2,4)\n",
    "q.toffoli(1,3,6)\n",
    "q.toffoli(6,5,4)\n",
    "q.cnot(6,4)\n",
    "q.cnot(4,5)\n",
    "q.toffoli(1,3,6)\n",
    "q.cnot(0,2)\n",
    "q.cnot(2,6)\n",
    "q.cnot(1,3)\n",
    "q.cnot(0,2)\n",
    "q.measure_all()\n",
    "q.draw()"
   ]
  },
  {
   "cell_type": "code",
   "execution_count": 14,
   "metadata": {},
   "outputs": [
    {
     "data": {
      "image/png": "[encoded data removed]",
      "text/plain": [
       "<Figure size 700x500 with 1 Axes>"
      ]
     },
     "execution_count": 14,
     "metadata": {},
     "output_type": "execute_result"
    }
   ],
   "source": [
    "sim_ideal = AerSimulator()\n",
    "result_ideal = sim_ideal.run(q).result()\n",
    "plot_histogram(result_ideal.get_counts(0))"
   ]
  }
 ],
 "metadata": {
  "kernelspec": {
   "display_name": "base",
   "language": "python",
   "name": "python3"
  },
  "language_info": {
   "codemirror_mode": {
    "name": "ipython",
    "version": 3
   },
   "file_extension": ".py",
   "mimetype": "text/x-python",
   "name": "python",
   "nbconvert_exporter": "python",
   "pygments_lexer": "ipython3",
   "version": "3.9.13"
  },
  "orig_nbformat": 4
 },
 "nbformat": 4,
 "nbformat_minor": 2
}
